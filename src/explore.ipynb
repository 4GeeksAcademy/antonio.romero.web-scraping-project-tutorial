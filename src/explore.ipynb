{
    "cells": [
        {
            "cell_type": "markdown",
            "metadata": {},
            "source": [
                "# Explore here\n",
                "\n",
                "It's recommended to use this notebook for exploration purposes."
            ]
        },
        {
            "cell_type": "code",
            "execution_count": 66,
            "metadata": {},
            "outputs": [],
            "source": [
                "import os\n",
                "from bs4 import BeautifulSoup\n",
                "import requests\n",
                "import time\n",
                "import sqlite3\n",
                "import matplotlib.pyplot as plt\n",
                "import seaborn as sns\n",
                "\n"
            ]
        },
        {
            "cell_type": "markdown",
            "metadata": {},
            "source": [
                "## Generar tabla y objetivo"
            ]
        },
        {
            "cell_type": "code",
            "execution_count": 70,
            "metadata": {},
            "outputs": [
                {
                    "name": "stdout",
                    "output_type": "stream",
                    "text": [
                        "Datos guardados en la tabla 'peliculas_mas_taquilleras' de 'box_office.db'.\n"
                    ]
                }
            ],
            "source": [
                "URL = \"https://es.wikipedia.org/wiki/Anexo:Películas_con_las_mayores_recaudaciones\"\n",
                "HEADERS = {\"User-Agent\": \"Mozilla/5.0\"}  # Evitar bloqueos impersonando el navegador Mozilla.\n",
                "DB_PATH = \"box_office.db\"\n",
                "TABLE_NAME = \"peliculas_mas_taquilleras\"\n",
                "\n",
                "def to_number(x):\n",
                "    \"\"\"Convierte texto con símbolos de moneda a número entero.\"\"\"\n",
                "    if pd.isna(x):\n",
                "        return pd.NA\n",
                "    s = str(x)\n",
                "    s = re.sub(r\"[^\\d]\", \"\", s)  # deja solo dígitos\n",
                "    return pd.to_numeric(s, errors=\"coerce\")\n",
                "\n",
                "def main():\n",
                "    resp = requests.get(URL, headers=HEADERS, timeout=30)\n",
                "    resp.raise_for_status()\n",
                "    soup = BeautifulSoup(resp.text, \"html.parser\")\n",
                "\n",
                "    target = None\n",
                "    for t in soup.select(\"table.wikitable\"):\n",
                "        cap = t.find(\"caption\")\n",
                "        if cap and \"mayores recaudaciones a nivel mundial\" in cap.get_text(strip=True).lower() and \"usd\" in cap.get_text(strip=True).lower():\n",
                "            target = t\n",
                "            break\n",
                "    if target is None:\n",
                "        raise RuntimeError(\"No encontré la tabla.\")\n",
                "    df = pd.read_html(str(target), flavor=\"bs4\")[0]\n",
                "\n",
                "    # limpieza y detección de tipos de columnas.\n",
                "    for col in df.columns:\n",
                "        if \"recaud\" in str(col).lower() or \"taquilla\" in str(col).lower():\n",
                "            df[col] = df[col].apply(to_number)\n",
                "\n",
                "    for name in df.columns:\n",
                "        ln = str(name).lower()\n",
                "        if ln in (\"n.º\", \"nº\", \"n°\", \"puesto\"):\n",
                "            df[name] = pd.to_numeric(df[name], errors=\"coerce\", downcast=\"integer\")\n",
                "        if \"año\" in ln and \"estreno\" in ln:\n",
                "            df[name] = pd.to_numeric(df[name], errors=\"coerce\", downcast=\"integer\")\n",
                "    with sqlite3.connect(DB_PATH) as conn:\n",
                "        df.to_sql(TABLE_NAME, conn, if_exists=\"replace\", index=False)\n",
                "\n",
                "print(f\"Datos guardados en la tabla '{TABLE_NAME}' de '{DB_PATH}'.\")\n",
                "  \n"
            ]
        },
        {
            "cell_type": "markdown",
            "metadata": {},
            "source": [
                "## Visualizaciones"
            ]
        },
        {
            "cell_type": "code",
            "execution_count": 71,
            "metadata": {},
            "outputs": [
                {
                    "ename": "NameError",
                    "evalue": "name 'df' is not defined",
                    "output_type": "error",
                    "traceback": [
                        "\u001b[31m---------------------------------------------------------------------------\u001b[39m",
                        "\u001b[31mNameError\u001b[39m                                 Traceback (most recent call last)",
                        "\u001b[36mCell\u001b[39m\u001b[36m \u001b[39m\u001b[32mIn[71]\u001b[39m\u001b[32m, line 6\u001b[39m\n\u001b[32m      3\u001b[39m plt.style.use(\u001b[33m\"\u001b[39m\u001b[33mggplot\u001b[39m\u001b[33m\"\u001b[39m)\n\u001b[32m      5\u001b[39m \u001b[38;5;66;03m# Detectar columnas\u001b[39;00m\n\u001b[32m----> \u001b[39m\u001b[32m6\u001b[39m col_world = \u001b[38;5;28mnext\u001b[39m((c \u001b[38;5;28;01mfor\u001b[39;00m c \u001b[38;5;129;01min\u001b[39;00m \u001b[43mdf\u001b[49m.columns \u001b[38;5;28;01mif\u001b[39;00m \u001b[33m\"\u001b[39m\u001b[33mmundial\u001b[39m\u001b[33m\"\u001b[39m \u001b[38;5;129;01min\u001b[39;00m c.lower()), \u001b[38;5;28;01mNone\u001b[39;00m)\n\u001b[32m      7\u001b[39m col_movie = \u001b[38;5;28mnext\u001b[39m((c \u001b[38;5;28;01mfor\u001b[39;00m c \u001b[38;5;129;01min\u001b[39;00m df.columns \u001b[38;5;28;01mif\u001b[39;00m \u001b[33m\"\u001b[39m\u001b[33mpelícula\u001b[39m\u001b[33m\"\u001b[39m \u001b[38;5;129;01min\u001b[39;00m c.lower()), \u001b[38;5;28;01mNone\u001b[39;00m)\n\u001b[32m      9\u001b[39m \u001b[38;5;28;01mif\u001b[39;00m col_world \u001b[38;5;129;01mand\u001b[39;00m col_movie:\n",
                        "\u001b[31mNameError\u001b[39m: name 'df' is not defined"
                    ]
                }
            ],
            "source": [
                "import matplotlib.pyplot as plt\n",
                "\n",
                "plt.style.use(\"ggplot\")\n",
                "\n",
                "# Detectar columnas\n",
                "col_world = next((c for c in df.columns if \"mundial\" in c.lower()), None)\n",
                "col_movie = next((c for c in df.columns if \"película\" in c.lower()), None)\n",
                "\n",
                "if col_world and col_movie:\n",
                "    top10 = df.nlargest(10, col_world)[[col_movie, col_world]].set_index(col_movie)\n",
                "    top10[col_world] = top10[col_world] / 1e9  # convertir a miles de millones USD\n",
                "    top10.plot(kind=\"barh\", figsize=(10, 6), color=\"steelblue\")\n",
                "    plt.title(\"Top 10 películas más taquilleras (en miles de millones USD)\")\n",
                "    plt.xlabel(\"Recaudación mundial (B USD)\")\n",
                "    plt.ylabel(\"\")\n",
                "    plt.gca().invert_yaxis()\n",
                "    plt.tight_layout()\n",
                "    plt.show()\n",
                "else:\n",
                "    print(\"No se encontraron columnas de 'mundial' o 'película'.\")\n",
                "\n",
                "# Recaudación mundial media por año\n",
                "col_year = next((c for c in df.columns if \"año\" in c.lower()), None)\n",
                "if col_year and col_world:\n",
                "    yearly = df.groupby(col_year)[col_world].mean().dropna() / 1e9\n",
                "    yearly.plot(kind=\"line\", marker=\"o\", figsize=(10, 5))\n",
                "    plt.title(\"Evolución de la recaudación media por año de estreno\")\n",
                "    plt.ylabel(\"Media recaudación (B USD)\")\n",
                "    plt.xlabel(\"Año de estreno\")\n",
                "    plt.tight_layout()\n",
                "    plt.show()\n",
                "else:\n",
                "    print(\"No se encontró columna de 'año' o 'recaudación mundial'.\")\n",
                "\n",
                "# Comparación taquilla doméstica vs internacional\n",
                "domestic_col = next((c for c in df.columns if \"ee. uu\" in c.lower()), None)\n",
                "foreign_col = next((c for c in df.columns if \"fuera\" in c.lower()), None)\n",
                "\n",
                "if domestic_col and foreign_col and col_movie:\n",
                "    comp = df.nlargest(10, col_world)[[col_movie, domestic_col, foreign_col]]\n",
                "    comp = comp.set_index(col_movie) / 1e9\n",
                "    comp.plot(kind=\"barh\", stacked=True, figsize=(10, 6))\n",
                "    plt.title(\"Top 10: taquilla EE. UU. vs fuera de EE. UU. (B USD)\")\n",
                "    plt.xlabel(\"Recaudación total (B USD)\")\n",
                "    plt.ylabel(\"\")\n",
                "    plt.gca().invert_yaxis()\n",
                "    plt.tight_layout()\n",
                "    plt.show()\n",
                "else:\n",
                "    print(\"No se encontraron columnas para taquilla doméstica/internacional.\")"
            ]
        }
    ],
    "metadata": {
        "kernelspec": {
            "display_name": "Python 3",
            "language": "python",
            "name": "python3"
        },
        "language_info": {
            "codemirror_mode": {
                "name": "ipython",
                "version": 3
            },
            "file_extension": ".py",
            "mimetype": "text/x-python",
            "name": "python",
            "nbconvert_exporter": "python",
            "pygments_lexer": "ipython3",
            "version": "3.11.4"
        },
        "orig_nbformat": 4
    },
    "nbformat": 4,
    "nbformat_minor": 2
}
